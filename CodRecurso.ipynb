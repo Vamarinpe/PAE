{
  "nbformat": 4,
  "nbformat_minor": 0,
  "metadata": {
    "colab": {
      "name": "CodRecurso.ipynb",
      "provenance": [],
      "collapsed_sections": [],
      "include_colab_link": true
    },
    "kernelspec": {
      "name": "python3",
      "display_name": "Python 3"
    }
  },
  "cells": [
    {
      "cell_type": "markdown",
      "metadata": {
        "id": "view-in-github",
        "colab_type": "text"
      },
      "source": [
        "<a href=\"https://colab.research.google.com/github/Vamarinpe/PAE/blob/master/CodRecurso.ipynb\" target=\"_parent\"><img src=\"https://colab.research.google.com/assets/colab-badge.svg\" alt=\"Open In Colab\"/></a>"
      ]
    },
    {
      "cell_type": "code",
      "metadata": {
        "id": "DahPimbX8SIt",
        "colab_type": "code",
        "colab": {}
      },
      "source": [
        "# Por agente\n",
        "\n",
        "# importa la librería\n",
        "import pandas as pd\n",
        "import numpy as np\n",
        "pd.set_option('display.notebook_repr_html', False)\n",
        "import matplotlib.pyplot as plt\n",
        "%matplotlib inline\n",
        "from datetime import datetime\n",
        "import csv\n",
        "\n",
        "Datos = pd.read_csv(\n",
        "    \"https://raw.githubusercontent.com/Vamarinpe/PAE/master/Recurso.csv\",\n",
        "    sep = ',',         # separador de campos\n",
        "    thousands = None,  # separador de miles para números\n",
        "    decimal = '.',\n",
        "    index_col=[\"Fecha\",\"Codigo Agente\",\"Recurso\"],\n",
        "    usecols=[\"Fecha\",\"Codigo Agente\",\"Recurso\",\"Precio Oferta Ideal\"],\n",
        "    parse_dates=[\"Fecha\"],\n",
        "    dayfirst=True)\n",
        "\n",
        "\n",
        "#Datos = pd.read_csv(\n",
        "    #\"https://raw.githubusercontent.com/Vamarinpe/Ensayo2/master/Datos.csv\",\n",
        "    #sep = ',',         # separador de campos\n",
        "    #thousands = None,  # separador de miles para números\n",
        "    #decimal = '.',\n",
        "    #quoting=csv.QUOTE_NONNUMERIC)\n",
        "\n",
        "#Datos['Fecha'] = Datos.Fecha\\\n",
        "                             #.map(lambda x : datetime.strptime(x, '%Y-%m-%d'))"
      ],
      "execution_count": 0,
      "outputs": []
    },
    {
      "cell_type": "code",
      "metadata": {
        "id": "SzCkncqFaLta",
        "colab_type": "code",
        "colab": {}
      },
      "source": [
        "len(Datos)\n",
        "Datos.columns\n",
        "Datos.describe()\n",
        "Datos.head(60)"
      ],
      "execution_count": 0,
      "outputs": []
    },
    {
      "cell_type": "code",
      "metadata": {
        "id": "dWXDI0eaBEme",
        "colab_type": "code",
        "colab": {}
      },
      "source": [
        "Datos.count()"
      ],
      "execution_count": 0,
      "outputs": []
    },
    {
      "cell_type": "code",
      "metadata": {
        "id": "otQlgNRv9S2X",
        "colab_type": "code",
        "colab": {}
      },
      "source": [
        "Datos.groupby('Codigo Agente')['Precio Oferta Ideal'].count()\n",
        "Datos.groupby('Recurso')['Precio Oferta Ideal'].count()\n",
        "Datos.groupby('Fecha')['Precio Oferta Ideal'].count()"
      ],
      "execution_count": 0,
      "outputs": []
    },
    {
      "cell_type": "code",
      "metadata": {
        "id": "K0iXRs6SrVep",
        "colab_type": "code",
        "colab": {}
      },
      "source": [
        "Datos.loc[('2012-09-04')]\n",
        "Datos.loc[('2012-09-04','EPMG')]\n",
        "plt.plot(Datos.loc[('2017-09-05','EPMG')])\n",
        "plt.plot(Datos.loc[('2017-09-06','EPMG')])\n",
        "plt.plot(Datos.loc[('2019-08-31','EPMG')])\n",
        "plt.show()"
      ],
      "execution_count": 0,
      "outputs": []
    },
    {
      "cell_type": "code",
      "metadata": {
        "id": "p9JktJkAN4zu",
        "colab_type": "code",
        "colab": {}
      },
      "source": [
        "Datos.loc['2012-01-01':'2013-12-31']"
      ],
      "execution_count": 0,
      "outputs": []
    },
    {
      "cell_type": "code",
      "metadata": {
        "id": "R2xDDbXTPqoV",
        "colab_type": "code",
        "colab": {}
      },
      "source": [
        "Datos.xs('2012-06-08',level='Fecha')\n",
        "Datos.xs('EPMG',level='Codigo Agente')\n",
        "Datos.xs('GUATAPE',level='Recurso').plot()\n",
        "Datos.xs('PLAYAS',level='Recurso').plot()\n",
        "plt.rcParams[\"figure.figsize\"] = (20,8)\n"
      ],
      "execution_count": 0,
      "outputs": []
    },
    {
      "cell_type": "code",
      "metadata": {
        "id": "WDfUta3oY7lk",
        "colab_type": "code",
        "colab": {}
      },
      "source": [
        "Datos.iloc[5]"
      ],
      "execution_count": 0,
      "outputs": []
    },
    {
      "cell_type": "code",
      "metadata": {
        "id": "XkUMIkkvVf3r",
        "colab_type": "code",
        "colab": {
          "base_uri": "https://localhost:8080/",
          "height": 230
        },
        "outputId": "1364dc88-de03-4eae-f1d1-6c490b5bd012"
      },
      "source": [
        "Cap2000 = pd.read_csv(\n",
        "    \"/content/Capacidad_Efectiva_Neta_(kW)_2000.csv\",\n",
        "    sep = ';',         # separador de campos\n",
        "    thousands = None,  # separador de miles para números\n",
        "    decimal = '.',\n",
        "    index_col=[\"Recurso\"],\n",
        "    usecols=[\"Recurso\",\"Capacidad Efectiva Neta kW\"])\n",
        "\n",
        "Cap2000.sort_values(by='Capacidad Efectiva Neta kW',ascending=False).drop_duplicates().head(10)\n",
        "\n",
        "Cap2001 = pd.read_csv(\n",
        "    \"/content/Capacidad_Efectiva_Neta_(kW)_2001.csv\",\n",
        "    sep = ';',         # separador de campos\n",
        "    thousands = None,  # separador de miles para números\n",
        "    decimal = '.',\n",
        "    index_col=[\"Recurso\"],\n",
        "    usecols=[\"Recurso\",\"Capacidad Efectiva Neta kW\"])\n",
        "\n",
        "Cap2001.sort_values(by='Capacidad Efectiva Neta kW',ascending=False).drop_duplicates().head(10)\n"
      ],
      "execution_count": 68,
      "outputs": [
        {
          "output_type": "execute_result",
          "data": {
            "text/plain": [
              "            Capacidad Efectiva Neta kW\n",
              "Recurso                               \n",
              "SAN CARLOS                   1240000.0\n",
              "GUAVIO                       1150000.0\n",
              "CHIVOR                       1000000.0\n",
              "CHIVOR                        875000.0\n",
              "CHIVOR                        750000.0\n",
              "PAGUA                         581000.0\n",
              "GUATAPE                       560000.0\n",
              "CASALCO                       543000.0\n",
              "BETANIA                       540000.0\n",
              "GUATRON                       512000.0"
            ]
          },
          "metadata": {
            "tags": []
          },
          "execution_count": 68
        }
      ]
    }
  ]
}
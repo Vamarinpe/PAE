{
  "nbformat": 4,
  "nbformat_minor": 0,
  "metadata": {
    "colab": {
      "name": "CodRecurso.ipynb",
      "provenance": [],
      "collapsed_sections": [],
      "include_colab_link": true
    },
    "kernelspec": {
      "name": "python3",
      "display_name": "Python 3"
    }
  },
  "cells": [
    {
      "cell_type": "markdown",
      "metadata": {
        "id": "view-in-github",
        "colab_type": "text"
      },
      "source": [
        "<a href=\"https://colab.research.google.com/github/Vamarinpe/PAE/blob/master/CodRecurso.ipynb\" target=\"_parent\"><img src=\"https://colab.research.google.com/assets/colab-badge.svg\" alt=\"Open In Colab\"/></a>"
      ]
    },
    {
      "cell_type": "code",
      "metadata": {
        "id": "DahPimbX8SIt",
        "colab_type": "code",
        "colab": {}
      },
      "source": [
        "# Por agente\n",
        "\n",
        "# importa la librería\n",
        "import pandas as pd\n",
        "import numpy as np\n",
        "pd.set_option('display.notebook_repr_html', False)\n",
        "import matplotlib.pyplot as plt\n",
        "%matplotlib inline\n",
        "from datetime import datetime\n",
        "import csv\n",
        "\n",
        "Datos = pd.read_csv(\n",
        "    \"https://raw.githubusercontent.com/Vamarinpe/PAE/master/Recurso.csv\",\n",
        "    sep = ',',         # separador de campos\n",
        "    thousands = None,  # separador de miles para números\n",
        "    decimal = '.',\n",
        "    index_col=[\"Fecha\",\"Codigo Agente\",\"Recurso\"],\n",
        "    usecols=[\"Fecha\",\"Codigo Agente\",\"Recurso\",\"Precio Oferta Ideal\"],\n",
        "    parse_dates=[\"Fecha\"],\n",
        "    dayfirst=True)\n",
        "\n",
        "\n",
        "#Datos = pd.read_csv(\n",
        "    #\"https://raw.githubusercontent.com/Vamarinpe/Ensayo2/master/Datos.csv\",\n",
        "    #sep = ',',         # separador de campos\n",
        "    #thousands = None,  # separador de miles para números\n",
        "    #decimal = '.',\n",
        "    #quoting=csv.QUOTE_NONNUMERIC)\n",
        "\n",
        "#Datos['Fecha'] = Datos.Fecha\\\n",
        "                             #.map(lambda x : datetime.strptime(x, '%Y-%m-%d'))"
      ],
      "execution_count": 0,
      "outputs": []
    },
    {
      "cell_type": "code",
      "metadata": {
        "id": "SzCkncqFaLta",
        "colab_type": "code",
        "colab": {}
      },
      "source": [
        "len(Datos)\n",
        "Datos.columns\n",
        "Datos.describe()\n",
        "Datos.head(60)"
      ],
      "execution_count": 0,
      "outputs": []
    },
    {
      "cell_type": "code",
      "metadata": {
        "id": "dWXDI0eaBEme",
        "colab_type": "code",
        "colab": {}
      },
      "source": [
        "Datos.count()"
      ],
      "execution_count": 0,
      "outputs": []
    },
    {
      "cell_type": "code",
      "metadata": {
        "id": "otQlgNRv9S2X",
        "colab_type": "code",
        "colab": {}
      },
      "source": [
        "Datos.groupby('Codigo Agente')['Precio Oferta Ideal'].count()\n",
        "Datos.groupby('Recurso')['Precio Oferta Ideal'].count()\n",
        "Datos.groupby('Fecha')['Precio Oferta Ideal'].count()"
      ],
      "execution_count": 0,
      "outputs": []
    },
    {
      "cell_type": "code",
      "metadata": {
        "id": "K0iXRs6SrVep",
        "colab_type": "code",
        "colab": {}
      },
      "source": [
        "Datos.loc[('2012-09-04')]\n",
        "Datos.loc[('2012-09-04','EPMG')]\n",
        "#plt.plot(Datos.loc[('2017-09-05','EPMG')])\n",
        "#plt.show()"
      ],
      "execution_count": 0,
      "outputs": []
    },
    {
      "cell_type": "code",
      "metadata": {
        "id": "p9JktJkAN4zu",
        "colab_type": "code",
        "colab": {}
      },
      "source": [
        "Datos.loc['2012-01-01':'2013-12-31']"
      ],
      "execution_count": 0,
      "outputs": []
    },
    {
      "cell_type": "code",
      "metadata": {
        "id": "R2xDDbXTPqoV",
        "colab_type": "code",
        "colab": {}
      },
      "source": [
        "Datos.xs('EPMG',level='Codigo Agente')\n",
        "Datos.xs('GUATAPE',level='Recurso')\n",
        "#Datos.xs('2012-06-08',level='Fecha')"
      ],
      "execution_count": 0,
      "outputs": []
    },
    {
      "cell_type": "code",
      "metadata": {
        "id": "WDfUta3oY7lk",
        "colab_type": "code",
        "colab": {}
      },
      "source": [
        "Datos.iloc[5]"
      ],
      "execution_count": 0,
      "outputs": []
    },
    {
      "cell_type": "code",
      "metadata": {
        "id": "S5msy8y89i08",
        "colab_type": "code",
        "colab": {}
      },
      "source": [
        "plt.plot(Datos['Precio Oferta Ideal'])\n",
        "\n",
        "plt.ylabel('Precio $/kWh',fontsize=12)\n",
        "plt.xlabel('Fecha',fontsize=12)\n",
        "plt.legend(prop={'size': 12})\n",
        "plt.suptitle('PRECIOS DE OFERTA POR AGENTE',fontsize=18)\n",
        "plt.rcParams[\"figure.figsize\"] = (20,8)\n",
        "plt.show()"
      ],
      "execution_count": 0,
      "outputs": []
    }
  ]
}
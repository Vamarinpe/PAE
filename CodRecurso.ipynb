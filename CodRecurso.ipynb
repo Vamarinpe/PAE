{
  "nbformat": 4,
  "nbformat_minor": 0,
  "metadata": {
    "colab": {
      "name": "CodRecurso.ipynb",
      "provenance": [],
      "collapsed_sections": [],
      "include_colab_link": true
    },
    "kernelspec": {
      "name": "python3",
      "display_name": "Python 3"
    }
  },
  "cells": [
    {
      "cell_type": "markdown",
      "metadata": {
        "id": "view-in-github",
        "colab_type": "text"
      },
      "source": [
        "<a href=\"https://colab.research.google.com/github/Vamarinpe/PAE/blob/master/CodRecurso.ipynb\" target=\"_parent\"><img src=\"https://colab.research.google.com/assets/colab-badge.svg\" alt=\"Open In Colab\"/></a>"
      ]
    },
    {
      "cell_type": "code",
      "metadata": {
        "id": "DahPimbX8SIt",
        "colab_type": "code",
        "colab": {}
      },
      "source": [
        "# Por agente\n",
        "\n",
        "# importa la librería\n",
        "import pandas as pd\n",
        "import numpy as np\n",
        "pd.set_option('display.notebook_repr_html', False)\n",
        "import matplotlib.pyplot as plt\n",
        "%matplotlib inline\n",
        "from datetime import datetime\n",
        "import csv\n",
        "\n",
        "Datos = pd.read_csv(\n",
        "    \"https://raw.githubusercontent.com/Vamarinpe/PAE/master/Recurso.csv\",\n",
        "    sep = ',',         # separador de campos\n",
        "    thousands = None,  # separador de miles para números\n",
        "    decimal = '.',\n",
        "    index_col=[\"Fecha\",\"Codigo Agente\",\"Recurso\"],\n",
        "    usecols=[\"Fecha\",\"Codigo Agente\",\"Recurso\",\"Precio Oferta Ideal\"],      # Datosnuevo=Datos[['Fecha','Codigo Agente','Recurso']]  - otra forma\n",
        "    parse_dates=[\"Fecha\"],\n",
        "    dayfirst=True)\n",
        "\n",
        "\n",
        "#Datos = pd.read_csv(\n",
        "    #\"https://raw.githubusercontent.com/Vamarinpe/Ensayo2/master/Datos.csv\",\n",
        "    #sep = ',',         # separador de campos\n",
        "    #thousands = None,  # separador de miles para números\n",
        "    #decimal = '.',\n",
        "    #quoting=csv.QUOTE_NONNUMERIC)\n",
        "\n",
        "#Datos['Fecha'] = Datos.Fecha\\\n",
        "                             #.map(lambda x : datetime.strptime(x, '%Y-%m-%d'))"
      ],
      "execution_count": 0,
      "outputs": []
    },
    {
      "cell_type": "code",
      "metadata": {
        "id": "SzCkncqFaLta",
        "colab_type": "code",
        "colab": {}
      },
      "source": [
        "len(Datos)\n",
        "Datos.columns\n",
        "Datos.describe()\n",
        "Datos.head(60)"
      ],
      "execution_count": 0,
      "outputs": []
    },
    {
      "cell_type": "code",
      "metadata": {
        "id": "dWXDI0eaBEme",
        "colab_type": "code",
        "colab": {}
      },
      "source": [
        "Datos.count()"
      ],
      "execution_count": 0,
      "outputs": []
    },
    {
      "cell_type": "code",
      "metadata": {
        "id": "otQlgNRv9S2X",
        "colab_type": "code",
        "colab": {}
      },
      "source": [
        "Datos.groupby('Codigo Agente')['Precio Oferta Ideal'].count()\n",
        "Datos.groupby('Recurso')['Precio Oferta Ideal'].count()\n",
        "Datos.groupby('Fecha')['Precio Oferta Ideal'].count()            # también sin el ['Precio Oferta Ideal']"
      ],
      "execution_count": 0,
      "outputs": []
    },
    {
      "cell_type": "code",
      "metadata": {
        "id": "K0iXRs6SrVep",
        "colab_type": "code",
        "colab": {}
      },
      "source": [
        "Datos.loc[('2012-09-04')]\n",
        "Datos.loc[('2012-09-04','EPMG')]\n",
        "plt.plot(Datos.loc[('2017-09-05','EPMG')])\n",
        "plt.plot(Datos.loc[('2017-09-06','EPMG')])\n",
        "plt.plot(Datos.loc[('2019-08-31','EPMG')])\n",
        "plt.show()"
      ],
      "execution_count": 0,
      "outputs": []
    },
    {
      "cell_type": "code",
      "metadata": {
        "id": "p9JktJkAN4zu",
        "colab_type": "code",
        "colab": {}
      },
      "source": [
        "Datos.loc['2012-01-01':'2013-12-31']"
      ],
      "execution_count": 0,
      "outputs": []
    },
    {
      "cell_type": "code",
      "metadata": {
        "id": "R2xDDbXTPqoV",
        "colab_type": "code",
        "colab": {}
      },
      "source": [
        "Datos.xs('2012-06-08',level='Fecha')\n",
        "Datos.xs('EPMG',level='Codigo Agente')\n",
        "Datos.xs('GUATAPE',level='Recurso').plot()\n",
        "Datos.xs('PLAYAS',level='Recurso').plot()\n",
        "plt.rcParams[\"figure.figsize\"] = (20,8)\n"
      ],
      "execution_count": 0,
      "outputs": []
    },
    {
      "cell_type": "code",
      "metadata": {
        "id": "WDfUta3oY7lk",
        "colab_type": "code",
        "colab": {}
      },
      "source": [
        "Datos.iloc[5]"
      ],
      "execution_count": 0,
      "outputs": []
    },
    {
      "cell_type": "code",
      "metadata": {
        "id": "X_-fMwCV2gg0",
        "colab_type": "code",
        "colab": {}
      },
      "source": [
        "def capacidad(x):\n",
        "  Cap = pd.read_csv(\n",
        "    x,\n",
        "    sep = ';',         # separador de campos\n",
        "    thousands = None,  # separador de miles para números\n",
        "    decimal = '.',\n",
        "    index_col=[\"Recurso\"],\n",
        "    usecols=[\"Recurso\",\"Capacidad Efectiva Neta kW\"])\n",
        "  return Cap.sort_values(by='Capacidad Efectiva Neta kW',ascending=False).drop_duplicates().head(10)\n",
        "\n",
        "C2000=capacidad(\"/content/Capacidad_Efectiva_Neta_(kW)_2000.csv\")\n",
        "C2001=capacidad(\"/content/Capacidad_Efectiva_Neta_(kW)_2001.csv\")\n"
      ],
      "execution_count": 0,
      "outputs": []
    },
    {
      "cell_type": "code",
      "metadata": {
        "id": "y1k6xx9g4GTJ",
        "colab_type": "code",
        "colab": {
          "base_uri": "https://localhost:8080/",
          "height": 1000
        },
        "outputId": "05404cc3-d806-4768-b8b9-dd127bb0d883"
      },
      "source": [
        "Datos.xs(C2001.index[4],level='Recurso')\n",
        "  "
      ],
      "execution_count": 17,
      "outputs": [
        {
          "output_type": "execute_result",
          "data": {
            "text/plain": [
              "                          Precio Oferta Ideal\n",
              "Fecha      Codigo Agente                     \n",
              "2000-01-01 CHVG                         48.37\n",
              "2000-01-02 CHVG                         50.95\n",
              "2000-01-03 CHVG                         50.16\n",
              "2000-01-04 CHVG                         50.16\n",
              "2000-01-05 CHVG                         47.28\n",
              "2000-01-06 CHVG                         37.78\n",
              "2000-01-07 CHVG                         29.13\n",
              "2000-01-08 CHVG                         42.28\n",
              "2000-01-09 CHVG                         41.62\n",
              "2000-01-10 CHVG                         39.20\n",
              "2000-01-11 CHVG                         39.60\n",
              "2000-01-12 CHVG                         41.24\n",
              "2000-01-13 CHVG                         38.62\n",
              "2000-01-14 CHVG                         42.28\n",
              "2000-01-15 CHVG                         46.62\n",
              "2000-01-16 CHVG                         50.49\n",
              "2000-01-17 CHVG                         43.53\n",
              "2000-01-18 CHVG                         42.08\n",
              "2000-01-19 CHVG                         38.41\n",
              "2000-01-20 CHVG                         42.87\n",
              "2000-01-21 CHVG                         42.78\n",
              "2000-01-22 CHVG                         48.83\n",
              "2000-01-23 CHVG                         48.91\n",
              "2000-01-24 CHVG                         39.39\n",
              "2000-01-25 CHVG                         39.46\n",
              "2000-01-26 CHVG                         41.12\n",
              "2000-01-27 CHVG                         45.28\n",
              "2000-01-28 CHVG                         41.28\n",
              "2000-01-29 CHVG                         43.66\n",
              "2000-01-30 CHVG                         44.53\n",
              "...                                       ...\n",
              "2019-08-02 CHVG                        112.10\n",
              "2019-08-03 CHVG                        108.10\n",
              "2019-08-04 CHVG                        120.10\n",
              "2019-08-05 CHVG                         71.30\n",
              "2019-08-06 CHVG                         71.30\n",
              "2019-08-07 CHVG                         71.30\n",
              "2019-08-08 CHVG                         71.30\n",
              "2019-08-09 CHVG                        118.31\n",
              "2019-08-10 CHVG                         71.30\n",
              "2019-08-11 CHVG                        125.31\n",
              "2019-08-12 CHVG                         71.30\n",
              "2019-08-13 CHVG                         71.30\n",
              "2019-08-14 CHVG                         71.30\n",
              "2019-08-15 CHVG                         71.30\n",
              "2019-08-16 CHVG                         71.30\n",
              "2019-08-17 CHVG                         71.30\n",
              "2019-08-18 CHVG                         71.30\n",
              "2019-08-19 CHVG                         71.30\n",
              "2019-08-20 CHVG                         71.30\n",
              "2019-08-21 CHVG                         71.30\n",
              "2019-08-22 CHVG                         71.30\n",
              "2019-08-23 CHVG                         71.30\n",
              "2019-08-24 CHVG                         71.30\n",
              "2019-08-25 CHVG                         90.81\n",
              "2019-08-26 CHVG                         71.30\n",
              "2019-08-27 CHVG                         71.30\n",
              "2019-08-28 CHVG                         71.30\n",
              "2019-08-29 CHVG                         71.30\n",
              "2019-08-30 CHVG                         71.30\n",
              "2019-08-31 CHVG                        137.84\n",
              "\n",
              "[7183 rows x 1 columns]"
            ]
          },
          "metadata": {
            "tags": []
          },
          "execution_count": 17
        }
      ]
    }
  ]
}
{
  "nbformat": 4,
  "nbformat_minor": 0,
  "metadata": {
    "colab": {
      "name": "CodRecurso.ipynb",
      "provenance": [],
      "collapsed_sections": [],
      "include_colab_link": true
    },
    "kernelspec": {
      "name": "python3",
      "display_name": "Python 3"
    }
  },
  "cells": [
    {
      "cell_type": "markdown",
      "metadata": {
        "id": "view-in-github",
        "colab_type": "text"
      },
      "source": [
        "<a href=\"https://colab.research.google.com/github/Vamarinpe/PAE/blob/master/CodRecurso.ipynb\" target=\"_parent\"><img src=\"https://colab.research.google.com/assets/colab-badge.svg\" alt=\"Open In Colab\"/></a>"
      ]
    },
    {
      "cell_type": "code",
      "metadata": {
        "id": "DahPimbX8SIt",
        "colab_type": "code",
        "colab": {}
      },
      "source": [
        "# Por agente\n",
        "\n",
        "# importa la librería\n",
        "import pandas as pd\n",
        "import numpy as np\n",
        "pd.set_option('display.notebook_repr_html', False)\n",
        "import matplotlib.pyplot as plt\n",
        "%matplotlib inline\n",
        "from datetime import datetime\n",
        "import csv\n",
        "\n",
        "Datos = pd.read_csv(\n",
        "    \"https://raw.githubusercontent.com/Vamarinpe/PAE/master/Recurso.csv\",\n",
        "    sep = ',',         # separador de campos\n",
        "    thousands = None,  # separador de miles para números\n",
        "    decimal = '.',\n",
        "    index_col=[\"Fecha\",\"Codigo Agente\",\"Recurso\"],\n",
        "    usecols=[\"Fecha\",\"Codigo Agente\",\"Recurso\",\"Precio Oferta Ideal\"],      # Datosnuevo=Datos[['Fecha','Codigo Agente','Recurso']]  - otra forma\n",
        "    parse_dates=[\"Fecha\"],\n",
        "    dayfirst=True)\n",
        "\n",
        "\n",
        "#Datos = pd.read_csv(\n",
        "    #\"https://raw.githubusercontent.com/Vamarinpe/Ensayo2/master/Datos.csv\",\n",
        "    #sep = ',',         # separador de campos\n",
        "    #thousands = None,  # separador de miles para números\n",
        "    #decimal = '.',\n",
        "    #quoting=csv.QUOTE_NONNUMERIC)\n",
        "\n",
        "#Datos['Fecha'] = Datos.Fecha\\\n",
        "                             #.map(lambda x : datetime.strptime(x, '%Y-%m-%d'))"
      ],
      "execution_count": 0,
      "outputs": []
    },
    {
      "cell_type": "code",
      "metadata": {
        "id": "SzCkncqFaLta",
        "colab_type": "code",
        "colab": {}
      },
      "source": [
        "len(Datos)\n",
        "Datos.columns\n",
        "Datos.describe()\n",
        "Datos.head(60)"
      ],
      "execution_count": 0,
      "outputs": []
    },
    {
      "cell_type": "code",
      "metadata": {
        "id": "dWXDI0eaBEme",
        "colab_type": "code",
        "colab": {}
      },
      "source": [
        "Datos.count()"
      ],
      "execution_count": 0,
      "outputs": []
    },
    {
      "cell_type": "code",
      "metadata": {
        "id": "otQlgNRv9S2X",
        "colab_type": "code",
        "colab": {}
      },
      "source": [
        "Datos.groupby('Codigo Agente')['Precio Oferta Ideal'].count()\n",
        "Datos.groupby('Recurso')['Precio Oferta Ideal'].count()\n",
        "Datos.groupby('Fecha')['Precio Oferta Ideal'].count()            # también sin el ['Precio Oferta Ideal']\n",
        "#Datos.groupby('Codigo Agente').count()"
      ],
      "execution_count": 0,
      "outputs": []
    },
    {
      "cell_type": "code",
      "metadata": {
        "id": "K0iXRs6SrVep",
        "colab_type": "code",
        "colab": {}
      },
      "source": [
        "Datos.loc[('2012-09-04')]\n",
        "Datos.loc[('2012-09-04','EPMG')]\n",
        "plt.plot(Datos.loc[('2017-09-05','EPMG')])\n",
        "plt.plot(Datos.loc[('2017-09-06','EPMG')])\n",
        "plt.plot(Datos.loc[('2019-08-31','EPMG')])\n",
        "plt.show()"
      ],
      "execution_count": 0,
      "outputs": []
    },
    {
      "cell_type": "code",
      "metadata": {
        "id": "p9JktJkAN4zu",
        "colab_type": "code",
        "colab": {}
      },
      "source": [
        "Datos.loc['2012-01-01':'2013-12-31']"
      ],
      "execution_count": 0,
      "outputs": []
    },
    {
      "cell_type": "code",
      "metadata": {
        "id": "R2xDDbXTPqoV",
        "colab_type": "code",
        "colab": {}
      },
      "source": [
        "Datos.xs('2012-06-08',level='Fecha')\n",
        "Datos.xs('EPMG',level='Codigo Agente')\n",
        "Datos.xs('GUATAPE',level='Recurso').plot()\n",
        "Datos.xs('PLAYAS',level='Recurso').plot()\n",
        "plt.rcParams[\"figure.figsize\"] = (20,8)\n"
      ],
      "execution_count": 0,
      "outputs": []
    },
    {
      "cell_type": "code",
      "metadata": {
        "id": "WDfUta3oY7lk",
        "colab_type": "code",
        "colab": {
          "base_uri": "https://localhost:8080/",
          "height": 52
        },
        "outputId": "83954e51-e1fd-4169-b796-9d8a437c2b8d"
      },
      "source": [
        "Datos.iloc[5]"
      ],
      "execution_count": 40,
      "outputs": [
        {
          "output_type": "execute_result",
          "data": {
            "text/plain": [
              "Precio Oferta Ideal    135.66\n",
              "Name: (2000-01-01 00:00:00, ESSG, BARRANCA 4), dtype: float64"
            ]
          },
          "metadata": {
            "tags": []
          },
          "execution_count": 40
        }
      ]
    },
    {
      "cell_type": "code",
      "metadata": {
        "id": "X_-fMwCV2gg0",
        "colab_type": "code",
        "colab": {
          "base_uri": "https://localhost:8080/",
          "height": 230
        },
        "outputId": "fb0422dd-75f4-4da9-ad8e-e9bfe02c858a"
      },
      "source": [
        "def capacidad(x):\n",
        "  Cap = pd.read_csv(\n",
        "    x,\n",
        "    sep = ';',         # separador de campos\n",
        "    thousands = None,  # separador de miles para números\n",
        "    decimal = '.',\n",
        "    index_col=[\"Recurso\"],\n",
        "    usecols=[\"Recurso\",\"Capacidad Efectiva Neta kW\",\"Combustible por defecto\"])\n",
        "  return Cap.sort_values(by='Capacidad Efectiva Neta kW',ascending=False).drop_duplicates().head(10)\n",
        "\n",
        "C2000=capacidad(\"/content/Capacidad_Efectiva_Neta_(kW)_2000.csv\")\n",
        "C2001=capacidad(\"/content/Capacidad_Efectiva_Neta_(kW)_2001.csv\")\n",
        "\n",
        "C2000"
      ],
      "execution_count": 98,
      "outputs": [
        {
          "output_type": "execute_result",
          "data": {
            "text/plain": [
              "           Combustible por defecto  Capacidad Efectiva Neta kW\n",
              "Recurso                                                       \n",
              "SAN CARLOS                    AGUA                   1240000.0\n",
              "GUAVIO                        AGUA                   1150000.0\n",
              "TEBSAB                         GAS                    750000.0\n",
              "CHIVOR                        AGUA                    750000.0\n",
              "PAGUA                         AGUA                    581000.0\n",
              "GUATAPE                       AGUA                    560000.0\n",
              "CASALCO                       AGUA                    543000.0\n",
              "BETANIA                       AGUA                    540000.0\n",
              "GUATRON                       AGUA                    512000.0\n",
              "ALBAN                         AGUA                    439000.0"
            ]
          },
          "metadata": {
            "tags": []
          },
          "execution_count": 98
        }
      ]
    },
    {
      "cell_type": "code",
      "metadata": {
        "id": "C3DDnirZcwol",
        "colab_type": "code",
        "colab": {
          "base_uri": "https://localhost:8080/",
          "height": 87
        },
        "outputId": "ae734c07-cbdd-4151-8804-92f82704f9fa"
      },
      "source": [
        "C2000.groupby('Combustible por defecto').count()"
      ],
      "execution_count": 100,
      "outputs": [
        {
          "output_type": "execute_result",
          "data": {
            "text/plain": [
              "                         Capacidad Efectiva Neta kW\n",
              "Combustible por defecto                            \n",
              "AGUA                                              9\n",
              "GAS                                               1"
            ]
          },
          "metadata": {
            "tags": []
          },
          "execution_count": 100
        }
      ]
    },
    {
      "cell_type": "code",
      "metadata": {
        "id": "y1k6xx9g4GTJ",
        "colab_type": "code",
        "outputId": "e1b9ba27-339d-41ce-a64d-244cf8f006da",
        "colab": {
          "base_uri": "https://localhost:8080/",
          "height": 1000
        }
      },
      "source": [
        "#Datos.xs(C2000.index[4],level='Recurso')\n",
        "Datos[Datos.index.get_level_values('Recurso').isin(list(C2000.index))]\n"
      ],
      "execution_count": 108,
      "outputs": [
        {
          "output_type": "execute_result",
          "data": {
            "text/plain": [
              "                                     Precio Oferta Ideal\n",
              "Fecha      Codigo Agente Recurso                        \n",
              "2000-01-01 CHBG          BETANIA                   44.95\n",
              "           EMGG          CASALCO                   49.70\n",
              "           CHVG          CHIVOR                    48.37\n",
              "           EPMG          GUATAPE                   25.59\n",
              "                         GUATRON                   58.28\n",
              "           EMGG          GUAVIO                    37.92\n",
              "                         PAGUA                     39.03\n",
              "           ISGG          SAN CARLOS                25.59\n",
              "           CRLG          TEBSAB                    68.59\n",
              "2000-01-02 CHBG          BETANIA                   44.28\n",
              "           EMGG          CASALCO                   49.70\n",
              "           CHVG          CHIVOR                    50.95\n",
              "           EPMG          GUATAPE                   25.59\n",
              "                         GUATRON                   57.28\n",
              "           EMGG          GUAVIO                    38.95\n",
              "                         PAGUA                     39.03\n",
              "           ISGG          SAN CARLOS                25.59\n",
              "           CRLG          TEBSAB                    68.59\n",
              "2000-01-03 CHBG          BETANIA                   45.62\n",
              "           EMGG          CASALCO                   49.70\n",
              "           CHVG          CHIVOR                    50.16\n",
              "           EPMG          GUATAPE                   25.59\n",
              "                         GUATRON                   55.28\n",
              "           EMGG          GUAVIO                    38.95\n",
              "                         PAGUA                     45.03\n",
              "           ISGG          SAN CARLOS                25.59\n",
              "           CRLG          TEBSAB                    70.77\n",
              "2000-01-04 CHBG          BETANIA                   47.62\n",
              "           EMGG          CASALCO                   49.70\n",
              "           CHVG          CHIVOR                    50.16\n",
              "...                                                  ...\n",
              "2019-08-28 ENDG          PAGUA                    323.31\n",
              "           ISGG          SAN CARLOS               154.31\n",
              "           TBSG          TEBSAB                   506.58\n",
              "2019-08-29 EPSG          ALBAN                    153.31\n",
              "           ENDG          BETANIA                  194.31\n",
              "           CHVG          CHIVOR                    71.30\n",
              "           EPMG          GUATAPE                   71.30\n",
              "                         GUATRON                  135.31\n",
              "           ENDG          GUAVIO                    71.30\n",
              "                         PAGUA                    323.31\n",
              "           ISGG          SAN CARLOS               154.31\n",
              "           TBSG          TEBSAB                   506.58\n",
              "2019-08-30 EPSG          ALBAN                    149.31\n",
              "           ENDG          BETANIA                  253.31\n",
              "           CHVG          CHIVOR                    71.30\n",
              "           EPMG          GUATAPE                   71.30\n",
              "                         GUATRON                  135.31\n",
              "           ENDG          GUAVIO                   136.31\n",
              "                         PAGUA                    323.31\n",
              "           ISGG          SAN CARLOS               195.31\n",
              "           TBSG          TEBSAB                   506.51\n",
              "2019-08-31 EPSG          ALBAN                    193.31\n",
              "           ENDG          BETANIA                   71.30\n",
              "           CHVG          CHIVOR                   137.84\n",
              "           EPMG          GUATAPE                   71.30\n",
              "                         GUATRON                   78.31\n",
              "           ENDG          GUAVIO                    93.31\n",
              "                         PAGUA                    323.31\n",
              "           ISGG          SAN CARLOS               195.31\n",
              "           TBSG          TEBSAB                   511.40\n",
              "\n",
              "[65677 rows x 1 columns]"
            ]
          },
          "metadata": {
            "tags": []
          },
          "execution_count": 108
        }
      ]
    }
  ]
}
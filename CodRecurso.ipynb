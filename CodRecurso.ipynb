{
  "nbformat": 4,
  "nbformat_minor": 0,
  "metadata": {
    "colab": {
      "name": "CodRecurso.ipynb",
      "provenance": [],
      "collapsed_sections": [],
      "include_colab_link": true
    },
    "kernelspec": {
      "name": "python3",
      "display_name": "Python 3"
    }
  },
  "cells": [
    {
      "cell_type": "markdown",
      "metadata": {
        "id": "view-in-github",
        "colab_type": "text"
      },
      "source": [
        "<a href=\"https://colab.research.google.com/github/Vamarinpe/PAE/blob/master/CodRecurso.ipynb\" target=\"_parent\"><img src=\"https://colab.research.google.com/assets/colab-badge.svg\" alt=\"Open In Colab\"/></a>"
      ]
    },
    {
      "cell_type": "code",
      "metadata": {
        "id": "DahPimbX8SIt",
        "colab_type": "code",
        "colab": {}
      },
      "source": [
        "# Por agente\n",
        "\n",
        "# importa la librería\n",
        "import pandas as pd\n",
        "import numpy as np\n",
        "pd.set_option('display.notebook_repr_html', False)\n",
        "import matplotlib.pyplot as plt\n",
        "%matplotlib inline\n",
        "from datetime import datetime\n",
        "import csv\n",
        "\n",
        "Datos = pd.read_csv(\n",
        "    \"https://raw.githubusercontent.com/Vamarinpe/PAE/master/Recurso.csv\",\n",
        "    sep = ',',         # separador de campos\n",
        "    thousands = None,  # separador de miles para números\n",
        "    decimal = '.',\n",
        "    index_col=[\"Fecha\",\"Codigo Agente\",\"Recurso\"],\n",
        "    usecols=[\"Fecha\",\"Codigo Agente\",\"Recurso\",\"Precio Oferta Ideal\"],      # Datosnuevo=Datos[['Fecha','Codigo Agente','Recurso']]  - otra forma\n",
        "    parse_dates=[\"Fecha\"],\n",
        "    dayfirst=True)\n",
        "\n",
        "\n",
        "#Datos = pd.read_csv(\n",
        "    #\"https://raw.githubusercontent.com/Vamarinpe/Ensayo2/master/Datos.csv\",\n",
        "    #sep = ',',         # separador de campos\n",
        "    #thousands = None,  # separador de miles para números\n",
        "    #decimal = '.',\n",
        "    #quoting=csv.QUOTE_NONNUMERIC)\n",
        "\n",
        "#Datos['Fecha'] = Datos.Fecha\\\n",
        "                             #.map(lambda x : datetime.strptime(x, '%Y-%m-%d'))"
      ],
      "execution_count": 0,
      "outputs": []
    },
    {
      "cell_type": "code",
      "metadata": {
        "id": "SzCkncqFaLta",
        "colab_type": "code",
        "colab": {}
      },
      "source": [
        "# verificar lectura\n",
        "len(Datos)\n",
        "Datos.columns\n",
        "Datos.describe()\n",
        "Datos.head(60)\n",
        "Datos.count()"
      ],
      "execution_count": 0,
      "outputs": []
    },
    {
      "cell_type": "code",
      "metadata": {
        "id": "otQlgNRv9S2X",
        "colab_type": "code",
        "colab": {}
      },
      "source": [
        "# contando registros con groupby\n",
        "Datos.groupby('Codigo Agente')['Precio Oferta Ideal'].count()\n",
        "Datos.groupby('Recurso')['Precio Oferta Ideal'].count()\n",
        "Datos.groupby('Fecha')['Precio Oferta Ideal'].count()            # también sin el ['Precio Oferta Ideal']\n",
        "#Datos.groupby('Codigo Agente').count()"
      ],
      "execution_count": 0,
      "outputs": []
    },
    {
      "cell_type": "code",
      "metadata": {
        "id": "K0iXRs6SrVep",
        "colab_type": "code",
        "colab": {}
      },
      "source": [
        "# muestra con loc, debe decir los indices especificos, de mayor a menor\n",
        "Datos.loc[('2012-09-04')]\n",
        "Datos.loc[('2012-09-04','EPMG')]\n",
        "plt.plot(Datos.loc[('2017-09-05','EPMG')])\n",
        "plt.plot(Datos.loc[('2017-09-06','EPMG')])\n",
        "plt.plot(Datos.loc[('2019-08-31','EPMG')])\n",
        "plt.show()\n",
        "#Datos.loc['2012-01-01':'2013-12-31']                         # también funciona para rangos"
      ],
      "execution_count": 0,
      "outputs": []
    },
    {
      "cell_type": "code",
      "metadata": {
        "id": "WDfUta3oY7lk",
        "colab_type": "code",
        "colab": {}
      },
      "source": [
        "# muestra con iloc, encuentra el dato que le digo en numero\n",
        "Datos.iloc[-2:]"
      ],
      "execution_count": 0,
      "outputs": []
    },
    {
      "cell_type": "code",
      "metadata": {
        "id": "R2xDDbXTPqoV",
        "colab_type": "code",
        "colab": {}
      },
      "source": [
        "# muestra con xs, filtra y muestra todo lo del nivel especifico indicado, muestra lo de los demás indices\n",
        "Datos.xs('2012-06-08',level='Fecha')\n",
        "Datos.xs('EPMG',level='Codigo Agente')\n",
        "Datos.xs('GUATAPE',level='Recurso').plot()\n",
        "Datos.xs('PLAYAS',level='Recurso').plot()\n",
        "plt.rcParams[\"figure.figsize\"] = (20,8)\n"
      ],
      "execution_count": 0,
      "outputs": []
    },
    {
      "cell_type": "code",
      "metadata": {
        "id": "X_-fMwCV2gg0",
        "colab_type": "code",
        "colab": {}
      },
      "source": [
        "# funcion para obtener los recursos de más capacidad en cada año (10 primeros)\n",
        "def capacidad(x):\n",
        "  Cap = pd.read_csv(\n",
        "    x,\n",
        "    sep = ';',         # separador de campos\n",
        "    thousands = None,  # separador de miles para números\n",
        "    decimal = '.',\n",
        "    index_col=[\"Recurso\"],\n",
        "    usecols=[\"Recurso\",\"Capacidad Efectiva Neta kW\",\"Combustible por defecto\"])\n",
        "  return Cap.sort_values(by='Capacidad Efectiva Neta kW',ascending=False).drop_duplicates().head(10)\n",
        "\n",
        "C2000=capacidad(\"/content/Capacidad_Efectiva_Neta_(kW)_2000.csv\")\n",
        "#C2001=capacidad(\"/content/Capacidad_Efectiva_Neta_(kW)_2001.csv\")\n",
        "\n",
        "C2000"
      ],
      "execution_count": 0,
      "outputs": []
    },
    {
      "cell_type": "code",
      "metadata": {
        "colab_type": "code",
        "id": "tqrgmTYv9zth",
        "colab": {}
      },
      "source": [
        "# cuenta de esos primeros, que combustible usan\n",
        "C2000.groupby('Combustible por defecto').count()\n",
        "C2000['Combustible por defecto']                # muestra la columna\n",
        "Datos.index.names[2]                            # muestra nombre index 2\n",
        "Datos.index.get_level_values('Recurso')         # muestra los datos de un indice"
      ],
      "execution_count": 0,
      "outputs": []
    },
    {
      "cell_type": "code",
      "metadata": {
        "id": "y1k6xx9g4GTJ",
        "colab_type": "code",
        "colab": {}
      },
      "source": [
        "# filtra Datos y muestra solo los que tienen mayor capacidad, agrega columna con el combustible\n",
        "Datos['Combustible']=Datos.index.get_level_values('Recurso').map(C2000['Combustible por defecto'])\n",
        "NuevaDatos=Datos[Datos.index.get_level_values('Recurso').isin(list(C2000.index))]\n",
        "NuevaDatos"
      ],
      "execution_count": 0,
      "outputs": []
    }
  ]
}
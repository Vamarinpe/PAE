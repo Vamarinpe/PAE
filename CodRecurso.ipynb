{
  "nbformat": 4,
  "nbformat_minor": 0,
  "metadata": {
    "colab": {
      "name": "CodRecurso.ipynb",
      "provenance": [],
      "collapsed_sections": [],
      "include_colab_link": true
    },
    "kernelspec": {
      "name": "python3",
      "display_name": "Python 3"
    }
  },
  "cells": [
    {
      "cell_type": "markdown",
      "metadata": {
        "id": "view-in-github",
        "colab_type": "text"
      },
      "source": [
        "<a href=\"https://colab.research.google.com/github/Vamarinpe/PAE/blob/master/CodRecurso.ipynb\" target=\"_parent\"><img src=\"https://colab.research.google.com/assets/colab-badge.svg\" alt=\"Open In Colab\"/></a>"
      ]
    },
    {
      "cell_type": "code",
      "metadata": {
        "id": "DahPimbX8SIt",
        "colab_type": "code",
        "colab": {}
      },
      "source": [
        "# Por agente\n",
        "\n",
        "# importa la librería\n",
        "import pandas as pd\n",
        "import numpy as np\n",
        "pd.set_option('display.notebook_repr_html', False)\n",
        "import matplotlib.pyplot as plt\n",
        "%matplotlib inline\n",
        "from datetime import datetime\n",
        "import csv\n",
        "\n",
        "Datos = pd.read_csv(\n",
        "    \"https://raw.githubusercontent.com/Vamarinpe/PAE/master/Recurso.csv\",\n",
        "    sep = ',',         # separador de campos\n",
        "    thousands = None,  # separador de miles para números\n",
        "    decimal = '.',\n",
        "    index_col=[\"Fecha\",\"Codigo Agente\",\"Recurso\"],\n",
        "    usecols=[\"Fecha\",\"Codigo Agente\",\"Recurso\",\"Precio Oferta Ideal\"],      # Datosnuevo=Datos[['Fecha','Codigo Agente','Recurso']]  - otra forma\n",
        "    parse_dates=[\"Fecha\"],\n",
        "    dayfirst=True)"
      ],
      "execution_count": 0,
      "outputs": []
    },
    {
      "cell_type": "code",
      "metadata": {
        "id": "SzCkncqFaLta",
        "colab_type": "code",
        "colab": {}
      },
      "source": [
        "# verificar lectura\n",
        "len(Datos)\n",
        "Datos.columns\n",
        "Datos.describe()\n",
        "Datos.head(60)\n",
        "Datos.count()"
      ],
      "execution_count": 0,
      "outputs": []
    },
    {
      "cell_type": "code",
      "metadata": {
        "id": "otQlgNRv9S2X",
        "colab_type": "code",
        "colab": {}
      },
      "source": [
        "# contando registros con groupby\n",
        "Datos.groupby('Codigo Agente')['Precio Oferta Ideal'].count()\n",
        "Datos.groupby('Recurso')['Precio Oferta Ideal'].count()\n",
        "Datos.groupby('Fecha')['Precio Oferta Ideal'].count()            # también sin el ['Precio Oferta Ideal']\n",
        "#Datos.groupby('Codigo Agente').count()"
      ],
      "execution_count": 0,
      "outputs": []
    },
    {
      "cell_type": "code",
      "metadata": {
        "id": "K0iXRs6SrVep",
        "colab_type": "code",
        "colab": {}
      },
      "source": [
        "# muestra con loc, debe decir los indices especificos, de mayor a menor\n",
        "Datos.loc[('2012-09-04')]\n",
        "Datos.loc[('2012-09-04','EPMG')]\n",
        "plt.plot(Datos.loc[('2017-09-05','EPMG')])\n",
        "plt.plot(Datos.loc[('2017-09-06','EPMG')])\n",
        "plt.plot(Datos.loc[('2019-08-31','EPMG')])\n",
        "plt.show()\n",
        "#Datos.loc['2012-01-01':'2013-12-31']                         # también funciona para rangos"
      ],
      "execution_count": 0,
      "outputs": []
    },
    {
      "cell_type": "code",
      "metadata": {
        "id": "WDfUta3oY7lk",
        "colab_type": "code",
        "colab": {}
      },
      "source": [
        "# muestra con iloc, encuentra el dato que le digo en numero\n",
        "Datos.iloc[-2:]"
      ],
      "execution_count": 0,
      "outputs": []
    },
    {
      "cell_type": "code",
      "metadata": {
        "id": "R2xDDbXTPqoV",
        "colab_type": "code",
        "colab": {}
      },
      "source": [
        "# muestra con xs, filtra y muestra todo lo del nivel especifico indicado, muestra lo de los demás indices\n",
        "Datos.xs('2012-06-08',level='Fecha')\n",
        "Datos.xs('EPMG',level='Codigo Agente')\n",
        "Datos.xs('GUATAPE',level='Recurso').plot()\n",
        "Datos.xs('PLAYAS',level='Recurso').plot()\n",
        "plt.rcParams[\"figure.figsize\"] = (20,8)"
      ],
      "execution_count": 0,
      "outputs": []
    },
    {
      "cell_type": "code",
      "metadata": {
        "id": "a3qikCSWCflA",
        "colab_type": "code",
        "colab": {}
      },
      "source": [
        "# agrega columna con el combustible\n",
        "Combustible = pd.read_csv(\n",
        "    \"https://raw.githubusercontent.com/Vamarinpe/PAE/master/Listado_Recursos_Generacion.csv\",\n",
        "    sep = ',',         # separador de campos\n",
        "    thousands = None,  # separador de miles para números\n",
        "    decimal = '.',\n",
        "    index_col=[\"Nombre Recurso\"],\n",
        "    usecols=[\"Nombre Recurso\",\"Combustible Por Defecto\"])      # Datosnuevo=Datos[['Fecha','Codigo Agente','Recurso']]  - otra forma\n",
        "\n",
        "Datos['Combustible']=Datos.index.get_level_values('Recurso').map(Combustible['Combustible Por Defecto'])"
      ],
      "execution_count": 0,
      "outputs": []
    },
    {
      "cell_type": "code",
      "metadata": {
        "id": "X_-fMwCV2gg0",
        "colab_type": "code",
        "colab": {}
      },
      "source": [
        "# funcion para obtener los recursos de más capacidad en cada año (10 primeros)\n",
        "def capacidad(x):\n",
        "  Cap = pd.read_csv(\n",
        "    x,\n",
        "    sep = ';',         # separador de campos\n",
        "    thousands = None,  # separador de miles para números\n",
        "    decimal = '.',\n",
        "    index_col=[\"Recurso\"],\n",
        "    usecols=[\"Recurso\",\"Capacidad Efectiva Neta kW\",\"Combustible por defecto\"])\n",
        "  return Cap.sort_values(by='Capacidad Efectiva Neta kW',ascending=False).drop_duplicates().head(10)\n",
        "\n",
        "def capacidad1(x):\n",
        "  Cap = pd.read_csv(\n",
        "    x,\n",
        "    sep = ';',         # separador de campos\n",
        "    thousands = None,  # separador de miles para números\n",
        "    decimal = '.',\n",
        "    index_col=[\"Recurso\"],\n",
        "    usecols=[\"Recurso\",\"Capacidad Efectiva Neta\",\"Combustible por defecto\"])\n",
        "  return Cap.sort_values(by='Capacidad Efectiva Neta',ascending=False).drop_duplicates().head(10)\n",
        "\n",
        "C2000=capacidad(\"https://raw.githubusercontent.com/Vamarinpe/PAE/master/Capacidad_Efectiva_Neta_(kW)_2000.csv\")\n",
        "C2001=capacidad(\"https://raw.githubusercontent.com/Vamarinpe/PAE/master/Capacidad_Efectiva_Neta_(kW)_2001.csv\")\n",
        "C2002=capacidad1(\"https://raw.githubusercontent.com/Vamarinpe/PAE/master/Capacidad_Efectiva_Neta_(kW)_2002.csv\")\n",
        "C2003=capacidad1(\"https://raw.githubusercontent.com/Vamarinpe/PAE/master/Capacidad_Efectiva_Neta_(kW)_2003.csv\")\n",
        "C2004=capacidad1(\"https://raw.githubusercontent.com/Vamarinpe/PAE/master/Capacidad_Efectiva_Neta_(kW)_2004.csv\")\n",
        "C2005=capacidad1(\"https://raw.githubusercontent.com/Vamarinpe/PAE/master/Capacidad_Efectiva_Neta_(kW)_2005.csv\")\n",
        "C2006=capacidad1(\"https://raw.githubusercontent.com/Vamarinpe/PAE/master/Capacidad_Efectiva_Neta_(kW)_2006.csv\")\n",
        "C2007=capacidad1(\"https://raw.githubusercontent.com/Vamarinpe/PAE/master/Capacidad_Efectiva_Neta_(kW)_2007.csv\")\n",
        "C2008=capacidad1(\"https://raw.githubusercontent.com/Vamarinpe/PAE/master/Capacidad_Efectiva_Neta_(kW)_2008.csv\")\n",
        "C2009=capacidad(\"https://raw.githubusercontent.com/Vamarinpe/PAE/master/Capacidad_Efectiva_Neta_(kW)_2009.csv\")\n",
        "C2010=capacidad(\"https://raw.githubusercontent.com/Vamarinpe/PAE/master/Capacidad_Efectiva_Neta_(kW)_2010.csv\")\n",
        "C2011=capacidad(\"https://raw.githubusercontent.com/Vamarinpe/PAE/master/Capacidad_Efectiva_Neta_(kW)_2011.csv\")\n",
        "C2012=capacidad(\"https://raw.githubusercontent.com/Vamarinpe/PAE/master/Capacidad_Efectiva_Neta_(kW)_2012.csv\")\n",
        "C2013=capacidad(\"https://raw.githubusercontent.com/Vamarinpe/PAE/master/Capacidad_Efectiva_Neta_(kW)_2013.csv\")\n",
        "C2014=capacidad(\"https://raw.githubusercontent.com/Vamarinpe/PAE/master/Capacidad_Efectiva_Neta_(kW)_2014.csv\")\n",
        "C2015=capacidad(\"https://raw.githubusercontent.com/Vamarinpe/PAE/master/Capacidad_Efectiva_Neta_(kW)_2015.csv\")\n",
        "C2016=capacidad(\"https://raw.githubusercontent.com/Vamarinpe/PAE/master/Capacidad_Efectiva_Neta_(kW)_2016.csv\")\n",
        "C2017=capacidad(\"https://raw.githubusercontent.com/Vamarinpe/PAE/master/Capacidad_Efectiva_Neta_(kW)_2017.csv\")\n"
      ],
      "execution_count": 0,
      "outputs": []
    },
    {
      "cell_type": "code",
      "metadata": {
        "id": "y1k6xx9g4GTJ",
        "colab_type": "code",
        "colab": {}
      },
      "source": [
        "# filtra Datos y muestra solo los que tienen mayor capacidad\n",
        "#2000\n",
        "Datos2000=Datos.loc['2000']\n",
        "NuevaDatos2000=Datos2000[Datos2000.index.get_level_values('Recurso').isin(list(C2000.index))]\n",
        "#2001\n",
        "Datos2001=Datos.loc['2001']\n",
        "NuevaDatos2001=Datos2001[Datos2001.index.get_level_values('Recurso').isin(list(C2001.index))]\n",
        "#2002\n",
        "Datos2002=Datos.loc['2002']\n",
        "NuevaDatos2002=Datos2002[Datos2002.index.get_level_values('Recurso').isin(list(C2002.index))]\n",
        "#2003\n",
        "Datos2003=Datos.loc['2003']\n",
        "NuevaDatos2003=Datos2003[Datos2003.index.get_level_values('Recurso').isin(list(C2003.index))]\n",
        "#2004\n",
        "Datos2004=Datos.loc['2004']\n",
        "NuevaDatos2004=Datos2004[Datos2004.index.get_level_values('Recurso').isin(list(C2004.index))]\n",
        "#2005\n",
        "Datos2005=Datos.loc['2005']\n",
        "NuevaDatos2005=Datos2005[Datos2005.index.get_level_values('Recurso').isin(list(C2005.index))]\n",
        "#2006\n",
        "Datos2006=Datos.loc['2006']\n",
        "NuevaDatos2006=Datos2006[Datos2006.index.get_level_values('Recurso').isin(list(C2006.index))]\n",
        "#2007\n",
        "Datos2007=Datos.loc['2007']\n",
        "NuevaDatos2007=Datos2007[Datos2007.index.get_level_values('Recurso').isin(list(C2007.index))]\n",
        "#2008\n",
        "Datos2008=Datos.loc['2008']\n",
        "NuevaDatos2008=Datos2008[Datos2008.index.get_level_values('Recurso').isin(list(C2008.index))]\n",
        "#2009\n",
        "Datos2009=Datos.loc['2009']\n",
        "NuevaDatos2009=Datos2009[Datos2009.index.get_level_values('Recurso').isin(list(C2009.index))]\n",
        "#2010\n",
        "Datos2010=Datos.loc['2010']\n",
        "NuevaDatos2010=Datos2010[Datos2010.index.get_level_values('Recurso').isin(list(C2010.index))]\n",
        "#2011\n",
        "Datos2011=Datos.loc['2011']\n",
        "NuevaDatos2011=Datos2011[Datos2011.index.get_level_values('Recurso').isin(list(C2011.index))]\n",
        "#2012\n",
        "Datos2012=Datos.loc['2012']\n",
        "NuevaDatos2012=Datos2012[Datos2012.index.get_level_values('Recurso').isin(list(C2012.index))]\n",
        "#2013\n",
        "Datos2013=Datos.loc['2013']\n",
        "NuevaDatos2013=Datos2013[Datos2013.index.get_level_values('Recurso').isin(list(C2013.index))]\n",
        "#2014\n",
        "Datos2014=Datos.loc['2014']\n",
        "NuevaDatos2014=Datos2014[Datos2014.index.get_level_values('Recurso').isin(list(C2014.index))]\n",
        "#2015\n",
        "Datos2015=Datos.loc['2015']\n",
        "NuevaDatos2015=Datos2015[Datos2015.index.get_level_values('Recurso').isin(list(C2015.index))]\n",
        "#2008\n",
        "Datos2016=Datos.loc['2016']\n",
        "NuevaDatos2016=Datos2016[Datos2016.index.get_level_values('Recurso').isin(list(C2016.index))]\n",
        "#20017\n",
        "Datos2017=Datos.loc['2017']\n",
        "NuevaDatos2017=Datos2017[Datos2017.index.get_level_values('Recurso').isin(list(C2017.index))]\n",
        "\n",
        "Datos_filtrado=pd.concat([NuevaDatos2000,NuevaDatos2001,NuevaDatos2002,NuevaDatos2003,NuevaDatos2004,NuevaDatos2005,NuevaDatos2006,NuevaDatos2007,NuevaDatos2008,\n",
        "                          NuevaDatos2009,NuevaDatos2010,NuevaDatos2011,NuevaDatos2012,NuevaDatos2013,NuevaDatos2014,NuevaDatos2015,NuevaDatos2016,NuevaDatos2017,])\n",
        "Datos_filtrado"
      ],
      "execution_count": 0,
      "outputs": []
    },
    {
      "cell_type": "code",
      "metadata": {
        "colab_type": "code",
        "id": "tqrgmTYv9zth",
        "colab": {
          "base_uri": "https://localhost:8080/",
          "height": 87
        },
        "outputId": "8e4083b7-37d9-4b09-fede-3ec59400295d"
      },
      "source": [
        "# cuenta de esos primeros, que combustible usan\n",
        "Datos_filtrado.groupby('Combustible').count()\n",
        "Datos_filtrado['Combustible']                # muestra la columna\n",
        "Datos_filtrado.index.names[2]                            # muestra nombre index 2\n",
        "a=Datos_filtrado.index.get_level_values('Recurso').drop_duplicates()       # muestra los datos de un indice\n",
        "a"
      ],
      "execution_count": 42,
      "outputs": [
        {
          "output_type": "execute_result",
          "data": {
            "text/plain": [
              "Index(['BETANIA', 'CASALCO', 'CHIVOR', 'GUATAPE', 'GUATRON', 'GUAVIO', 'PAGUA',\n",
              "       'SAN CARLOS', 'TEBSAB', 'ALBAN', 'TERMOSIERRAB', 'PORCE III',\n",
              "       'SOGAMOSO'],\n",
              "      dtype='object', name='Recurso')"
            ]
          },
          "metadata": {
            "tags": []
          },
          "execution_count": 42
        }
      ]
    },
    {
      "cell_type": "code",
      "metadata": {
        "id": "d9VEwmXzRvhx",
        "colab_type": "code",
        "colab": {
          "base_uri": "https://localhost:8080/",
          "height": 70
        },
        "outputId": "2f49a926-2de8-46a0-e346-77235c567275"
      },
      "source": [
        "a.map(Combustible['Combustible Por Defecto'])"
      ],
      "execution_count": 38,
      "outputs": [
        {
          "output_type": "execute_result",
          "data": {
            "text/plain": [
              "Index(['AGUA', 'AGUA', 'AGUA', 'AGUA', 'AGUA', 'AGUA', 'AGUA', 'AGUA', 'GAS',\n",
              "       'AGUA', 'ACPM', 'AGUA', 'AGUA'],\n",
              "      dtype='object', name='Recurso')"
            ]
          },
          "metadata": {
            "tags": []
          },
          "execution_count": 38
        }
      ]
    }
  ]
}
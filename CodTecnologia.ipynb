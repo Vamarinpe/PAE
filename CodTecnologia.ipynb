{
  "nbformat": 4,
  "nbformat_minor": 0,
  "metadata": {
    "colab": {
      "name": "CodTecnologia.ipynb",
      "provenance": [],
      "collapsed_sections": [],
      "include_colab_link": true
    },
    "kernelspec": {
      "name": "python3",
      "display_name": "Python 3"
    }
  },
  "cells": [
    {
      "cell_type": "markdown",
      "metadata": {
        "id": "view-in-github",
        "colab_type": "text"
      },
      "source": [
        "<a href=\"https://colab.research.google.com/github/Vamarinpe/PAE/blob/master/CodTecnologia.ipynb\" target=\"_parent\"><img src=\"https://colab.research.google.com/assets/colab-badge.svg\" alt=\"Open In Colab\"/></a>"
      ]
    },
    {
      "cell_type": "code",
      "metadata": {
        "id": "DahPimbX8SIt",
        "colab_type": "code",
        "colab": {}
      },
      "source": [
        "# Ponderados por tecnología\n",
        "\n",
        "# importa la librería\n",
        "import pandas as pd\n",
        "import numpy as np\n",
        "pd.set_option('display.notebook_repr_html', False)\n",
        "import matplotlib.pyplot as plt\n",
        "%matplotlib inline\n",
        "from datetime import datetime\n",
        "\n",
        "Datos = pd.read_csv(\n",
        "    \"https://raw.githubusercontent.com/Vamarinpe/PAE/master/Tecnologia.csv\",\n",
        "    sep = ',',         # separador de campos\n",
        "    thousands = None,  # separador de miles para números\n",
        "    decimal = '.',\n",
        "    index_col=[\"Fecha\"],\n",
        "    parse_dates=[\"Fecha\"],\n",
        "    dayfirst=True)\n",
        "\n",
        "\n",
        "#Datos = pd.read_csv(\n",
        "    #\"https://raw.githubusercontent.com/Vamarinpe/PAE/master/Tecnologia.csv\",\n",
        "    #sep = ',',         # separador de campos\n",
        "    #thousands = None,  # separador de miles para números\n",
        "    #decimal = '.')\n",
        "\n",
        "#Datos['Fecha'] = Datos.Fecha\\\n",
        "                             #.map(lambda x : datetime.strptime(x, '%d/%m/%Y'))"
      ],
      "execution_count": 0,
      "outputs": []
    },
    {
      "cell_type": "code",
      "metadata": {
        "id": "SzCkncqFaLta",
        "colab_type": "code",
        "colab": {}
      },
      "source": [
        "len(Datos)\n",
        "Datos.columns\n",
        "Datos.describe()\n",
        "Datos.count()\n",
        "Datos.head(10)"
      ],
      "execution_count": 0,
      "outputs": []
    },
    {
      "cell_type": "code",
      "metadata": {
        "id": "UYi3Nk507y-G",
        "colab_type": "code",
        "colab": {}
      },
      "source": [
        "type(Datos)\n",
        "Datos.index"
      ],
      "execution_count": 0,
      "outputs": []
    },
    {
      "cell_type": "code",
      "metadata": {
        "id": "ZozUy3JVjfeT",
        "colab_type": "code",
        "colab": {}
      },
      "source": [
        "Datos.plot()\n",
        "\n",
        "Datos['2015':'2017'].plot()\n",
        "\n",
        "plt.legend(prop={'size': 12})\n",
        "plt.ylabel('Precio $/kWh',fontsize=12)\n",
        "plt.xlabel('Fecha',fontsize=12)\n",
        "plt.suptitle('PRECIOS DE OFERTA POR TECNOLOGÍA',fontsize=18)\n",
        "plt.rcParams[\"figure.figsize\"] = (20,8)\n",
        "\n",
        "#plt.plot(Datos['Fecha'],Datos['AGUA'])"
      ],
      "execution_count": 0,
      "outputs": []
    },
    {
      "cell_type": "code",
      "metadata": {
        "id": "klgfFOCYPfdK",
        "colab_type": "code",
        "colab": {}
      },
      "source": [
        "Datos.loc['2015':'2017',['AGUA','GAS']].plot()\n",
        "#Datos.loc['2015',['AGUA']].plot()\n",
        "\n",
        "plt.legend(prop={'size': 12})\n",
        "plt.ylabel('Precio $/kWh',fontsize=12)\n",
        "plt.xlabel('Fecha',fontsize=12)\n",
        "plt.suptitle('PRECIOS DE OFERTA POR TECNOLOGÍA',fontsize=18)\n",
        "plt.rcParams[\"figure.figsize\"] = (20,8)"
      ],
      "execution_count": 0,
      "outputs": []
    },
    {
      "cell_type": "code",
      "metadata": {
        "id": "6MUk4I88WhYf",
        "colab_type": "code",
        "colab": {}
      },
      "source": [
        "Datos.iloc[1:7]\n",
        "Datos.iloc[2000]"
      ],
      "execution_count": 0,
      "outputs": []
    },
    {
      "cell_type": "code",
      "metadata": {
        "id": "-_cTAfKq0OPz",
        "colab_type": "code",
        "colab": {}
      },
      "source": [
        "import seaborn as sns\n",
        "g=sns.lmplot(x='AGUA',y='CARBÓN',data=Datos)"
      ],
      "execution_count": 0,
      "outputs": []
    }
  ]
}